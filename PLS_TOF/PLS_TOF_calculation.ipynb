{
 "cells": [
  {
   "cell_type": "code",
   "execution_count": 1,
   "id": "00baddab-8dfd-458a-9ff4-97c67494648b",
   "metadata": {},
   "outputs": [],
   "source": [
    "import matplotlib.pyplot as plt"
   ]
  },
  {
   "cell_type": "code",
   "execution_count": 2,
   "id": "36d44ea3-2c82-4055-a2d1-b03ef6244885",
   "metadata": {},
   "outputs": [
    {
     "ename": "NameError",
     "evalue": "name 'np' is not defined",
     "output_type": "error",
     "traceback": [
      "\u001b[0;31m---------------------------------------------------------------------------\u001b[0m",
      "\u001b[0;31mNameError\u001b[0m                                 Traceback (most recent call last)",
      "Input \u001b[0;32mIn [2]\u001b[0m, in \u001b[0;36m<cell line: 1>\u001b[0;34m()\u001b[0m\n\u001b[0;32m----> 1\u001b[0m x \u001b[38;5;241m=\u001b[39m \u001b[43mnp\u001b[49m\u001b[38;5;241m.\u001b[39mlinspace(start \u001b[38;5;241m=\u001b[39m \u001b[38;5;241m-\u001b[39m\u001b[38;5;241m25\u001b[39m, stop \u001b[38;5;241m=\u001b[39m \u001b[38;5;241m25\u001b[39m, num\u001b[38;5;241m=\u001b[39m\u001b[38;5;241m50\u001b[39m)\n\u001b[1;32m      2\u001b[0m y \u001b[38;5;241m=\u001b[39m np\u001b[38;5;241m.\u001b[39mlinspace(start \u001b[38;5;241m=\u001b[39m \u001b[38;5;241m-\u001b[39m\u001b[38;5;241m25\u001b[39m, stop \u001b[38;5;241m=\u001b[39m \u001b[38;5;241m25\u001b[39m, num\u001b[38;5;241m=\u001b[39m\u001b[38;5;241m50\u001b[39m)\n",
      "\u001b[0;31mNameError\u001b[0m: name 'np' is not defined"
     ]
    }
   ],
   "source": [
    "x = np.linspace(start = -25, stop = 25, num=50)\n",
    "y = np.linspace(start = -25, stop = 25, num=50)"
   ]
  },
  {
   "cell_type": "code",
   "execution_count": null,
   "id": "2e4ceaec-826a-44ed-b06b-4b9a56bf16c3",
   "metadata": {},
   "outputs": [],
   "source": [
    "x, y"
   ]
  },
  {
   "cell_type": "code",
   "execution_count": null,
   "id": "51892228-48e9-414e-9527-6be6453c6cb2",
   "metadata": {},
   "outputs": [],
   "source": [
    "xv, yv = np.meshgrid(x, x)"
   ]
  },
  {
   "cell_type": "code",
   "execution_count": null,
   "id": "083dc97d-0abf-4fb7-a6e9-cee142f3cf9d",
   "metadata": {},
   "outputs": [],
   "source": [
    "xv"
   ]
  },
  {
   "cell_type": "code",
   "execution_count": null,
   "id": "8f6e8ad6-a8ba-49cb-b576-2ad0408ade81",
   "metadata": {},
   "outputs": [],
   "source": [
    "yv"
   ]
  },
  {
   "cell_type": "code",
   "execution_count": null,
   "id": "f4d0edf4-f71d-4c5f-b7e4-8205c01265f1",
   "metadata": {},
   "outputs": [],
   "source": [
    "z1 = np.sqrt(xv**2 + (25-yv)**2) - np.sqrt(xv**2 + (25+yv)**2)\n",
    "z2 = np.sqrt((25-xv)**2 + yv**2) - np.sqrt((25+xv)**2 + yv**2)"
   ]
  },
  {
   "cell_type": "code",
   "execution_count": null,
   "id": "bc54efb8-8244-4b15-9def-c98383b14124",
   "metadata": {},
   "outputs": [],
   "source": [
    "z1"
   ]
  },
  {
   "cell_type": "code",
   "execution_count": null,
   "id": "60cc3f76-a589-4bf7-895e-44be03a113c9",
   "metadata": {},
   "outputs": [],
   "source": [
    "z2"
   ]
  },
  {
   "cell_type": "code",
   "execution_count": null,
   "id": "e733f60b-c25d-455e-8372-3805c5c93f47",
   "metadata": {},
   "outputs": [],
   "source": [
    "h = plt.contourf(x, y, z1)\n",
    "plt.axis('scaled')\n",
    "plt.xlabel(\"x axis [cm]\")\n",
    "plt.ylabel(\"y axis [cm]\")\n",
    "cbar = plt.colorbar()\n",
    "cbar.set_label('time diff on X-Axis')\n",
    "plt.show()"
   ]
  },
  {
   "cell_type": "code",
   "execution_count": null,
   "id": "d43cf54e-6ba6-4205-b868-e1ef2715f491",
   "metadata": {},
   "outputs": [],
   "source": [
    "h = plt.contourf(x, y, z2)\n",
    "plt.axis('scaled')\n",
    "plt.xlabel(\"x axis [cm]\")\n",
    "plt.ylabel(\"y axis [cm]\")\n",
    "cbar = plt.colorbar()\n",
    "cbar.set_label('time diff on Y-Axis')\n",
    "plt.show()"
   ]
  }
 ],
 "metadata": {
  "kernelspec": {
   "display_name": "Python [conda env:XENONnT_development] *",
   "language": "python",
   "name": "conda-env-XENONnT_development-py"
  },
  "language_info": {
   "codemirror_mode": {
    "name": "ipython",
    "version": 3
   },
   "file_extension": ".py",
   "mimetype": "text/x-python",
   "name": "python",
   "nbconvert_exporter": "python",
   "pygments_lexer": "ipython3",
   "version": "3.8.12"
  }
 },
 "nbformat": 4,
 "nbformat_minor": 5
}
