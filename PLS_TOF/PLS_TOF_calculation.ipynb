{
 "cells": [
  {
   "cell_type": "code",
   "execution_count": 1,
   "id": "00baddab-8dfd-458a-9ff4-97c67494648b",
   "metadata": {},
   "outputs": [],
   "source": [
    "import matplotlib.pyplot as plt\n",
    "import numpy as np"
   ]
  },
  {
   "cell_type": "code",
   "execution_count": 2,
   "id": "36d44ea3-2c82-4055-a2d1-b03ef6244885",
   "metadata": {},
   "outputs": [],
   "source": [
    "x = np.linspace(start = -25, stop = 25, num=50)\n",
    "y = np.linspace(start = -25, stop = 25, num=50)"
   ]
  },
  {
   "cell_type": "code",
   "execution_count": 3,
   "id": "2e4ceaec-826a-44ed-b06b-4b9a56bf16c3",
   "metadata": {},
   "outputs": [
    {
     "data": {
      "text/plain": [
       "(array([-25.        , -23.97959184, -22.95918367, -21.93877551,\n",
       "        -20.91836735, -19.89795918, -18.87755102, -17.85714286,\n",
       "        -16.83673469, -15.81632653, -14.79591837, -13.7755102 ,\n",
       "        -12.75510204, -11.73469388, -10.71428571,  -9.69387755,\n",
       "         -8.67346939,  -7.65306122,  -6.63265306,  -5.6122449 ,\n",
       "         -4.59183673,  -3.57142857,  -2.55102041,  -1.53061224,\n",
       "         -0.51020408,   0.51020408,   1.53061224,   2.55102041,\n",
       "          3.57142857,   4.59183673,   5.6122449 ,   6.63265306,\n",
       "          7.65306122,   8.67346939,   9.69387755,  10.71428571,\n",
       "         11.73469388,  12.75510204,  13.7755102 ,  14.79591837,\n",
       "         15.81632653,  16.83673469,  17.85714286,  18.87755102,\n",
       "         19.89795918,  20.91836735,  21.93877551,  22.95918367,\n",
       "         23.97959184,  25.        ]),\n",
       " array([-25.        , -23.97959184, -22.95918367, -21.93877551,\n",
       "        -20.91836735, -19.89795918, -18.87755102, -17.85714286,\n",
       "        -16.83673469, -15.81632653, -14.79591837, -13.7755102 ,\n",
       "        -12.75510204, -11.73469388, -10.71428571,  -9.69387755,\n",
       "         -8.67346939,  -7.65306122,  -6.63265306,  -5.6122449 ,\n",
       "         -4.59183673,  -3.57142857,  -2.55102041,  -1.53061224,\n",
       "         -0.51020408,   0.51020408,   1.53061224,   2.55102041,\n",
       "          3.57142857,   4.59183673,   5.6122449 ,   6.63265306,\n",
       "          7.65306122,   8.67346939,   9.69387755,  10.71428571,\n",
       "         11.73469388,  12.75510204,  13.7755102 ,  14.79591837,\n",
       "         15.81632653,  16.83673469,  17.85714286,  18.87755102,\n",
       "         19.89795918,  20.91836735,  21.93877551,  22.95918367,\n",
       "         23.97959184,  25.        ]))"
      ]
     },
     "execution_count": 3,
     "metadata": {},
     "output_type": "execute_result"
    }
   ],
   "source": [
    "x, y"
   ]
  },
  {
   "cell_type": "code",
   "execution_count": 4,
   "id": "51892228-48e9-414e-9527-6be6453c6cb2",
   "metadata": {},
   "outputs": [],
   "source": [
    "xv, yv = np.meshgrid(x, x)"
   ]
  },
  {
   "cell_type": "code",
   "execution_count": 5,
   "id": "083dc97d-0abf-4fb7-a6e9-cee142f3cf9d",
   "metadata": {},
   "outputs": [
    {
     "data": {
      "text/plain": [
       "array([[-25.        , -23.97959184, -22.95918367, ...,  22.95918367,\n",
       "         23.97959184,  25.        ],\n",
       "       [-25.        , -23.97959184, -22.95918367, ...,  22.95918367,\n",
       "         23.97959184,  25.        ],\n",
       "       [-25.        , -23.97959184, -22.95918367, ...,  22.95918367,\n",
       "         23.97959184,  25.        ],\n",
       "       ...,\n",
       "       [-25.        , -23.97959184, -22.95918367, ...,  22.95918367,\n",
       "         23.97959184,  25.        ],\n",
       "       [-25.        , -23.97959184, -22.95918367, ...,  22.95918367,\n",
       "         23.97959184,  25.        ],\n",
       "       [-25.        , -23.97959184, -22.95918367, ...,  22.95918367,\n",
       "         23.97959184,  25.        ]])"
      ]
     },
     "execution_count": 5,
     "metadata": {},
     "output_type": "execute_result"
    }
   ],
   "source": [
    "xv"
   ]
  },
  {
   "cell_type": "code",
   "execution_count": 6,
   "id": "8f6e8ad6-a8ba-49cb-b576-2ad0408ade81",
   "metadata": {},
   "outputs": [
    {
     "data": {
      "text/plain": [
       "array([[-25.        , -25.        , -25.        , ..., -25.        ,\n",
       "        -25.        , -25.        ],\n",
       "       [-23.97959184, -23.97959184, -23.97959184, ..., -23.97959184,\n",
       "        -23.97959184, -23.97959184],\n",
       "       [-22.95918367, -22.95918367, -22.95918367, ..., -22.95918367,\n",
       "        -22.95918367, -22.95918367],\n",
       "       ...,\n",
       "       [ 22.95918367,  22.95918367,  22.95918367, ...,  22.95918367,\n",
       "         22.95918367,  22.95918367],\n",
       "       [ 23.97959184,  23.97959184,  23.97959184, ...,  23.97959184,\n",
       "         23.97959184,  23.97959184],\n",
       "       [ 25.        ,  25.        ,  25.        , ...,  25.        ,\n",
       "         25.        ,  25.        ]])"
      ]
     },
     "execution_count": 6,
     "metadata": {},
     "output_type": "execute_result"
    }
   ],
   "source": [
    "yv"
   ]
  },
  {
   "cell_type": "code",
   "execution_count": 7,
   "id": "f4d0edf4-f71d-4c5f-b7e4-8205c01265f1",
   "metadata": {},
   "outputs": [],
   "source": [
    "z1 = np.sqrt(xv**2 + (25-yv)**2) - np.sqrt(xv**2 + (25+yv)**2)\n",
    "z2 = np.sqrt((25-xv)**2 + yv**2) - np.sqrt((25+xv)**2 + yv**2)"
   ]
  },
  {
   "cell_type": "code",
   "execution_count": 8,
   "id": "bc54efb8-8244-4b15-9def-c98383b14124",
   "metadata": {},
   "outputs": [
    {
     "data": {
      "text/plain": [
       "array([[ 30.90169944,  31.47327846,  32.06012307, ...,  32.06012307,\n",
       "         31.47327846,  30.90169944],\n",
       "       [ 29.97009614,  30.53329474,  31.11181621, ...,  31.11181621,\n",
       "         30.53329474,  29.97009614],\n",
       "       [ 29.00087891,  29.55371902,  30.12178245, ...,  30.12178245,\n",
       "         29.55371902,  29.00087891],\n",
       "       ...,\n",
       "       [-29.00087891, -29.55371902, -30.12178245, ..., -30.12178245,\n",
       "        -29.55371902, -29.00087891],\n",
       "       [-29.97009614, -30.53329474, -31.11181621, ..., -31.11181621,\n",
       "        -30.53329474, -29.97009614],\n",
       "       [-30.90169944, -31.47327846, -32.06012307, ..., -32.06012307,\n",
       "        -31.47327846, -30.90169944]])"
      ]
     },
     "execution_count": 8,
     "metadata": {},
     "output_type": "execute_result"
    }
   ],
   "source": [
    "z1"
   ]
  },
  {
   "cell_type": "code",
   "execution_count": 9,
   "id": "60cc3f76-a589-4bf7-895e-44be03a113c9",
   "metadata": {},
   "outputs": [
    {
     "data": {
      "text/plain": [
       "array([[ 30.90169944,  29.97009614,  29.00087891, ..., -29.00087891,\n",
       "        -29.97009614, -30.90169944],\n",
       "       [ 31.47327846,  30.53329474,  29.55371902, ..., -29.55371902,\n",
       "        -30.53329474, -31.47327846],\n",
       "       [ 32.06012307,  31.11181621,  30.12178245, ..., -30.12178245,\n",
       "        -31.11181621, -32.06012307],\n",
       "       ...,\n",
       "       [ 32.06012307,  31.11181621,  30.12178245, ..., -30.12178245,\n",
       "        -31.11181621, -32.06012307],\n",
       "       [ 31.47327846,  30.53329474,  29.55371902, ..., -29.55371902,\n",
       "        -30.53329474, -31.47327846],\n",
       "       [ 30.90169944,  29.97009614,  29.00087891, ..., -29.00087891,\n",
       "        -29.97009614, -30.90169944]])"
      ]
     },
     "execution_count": 9,
     "metadata": {},
     "output_type": "execute_result"
    }
   ],
   "source": [
    "z2"
   ]
  },
  {
   "cell_type": "code",
   "execution_count": 10,
   "id": "e733f60b-c25d-455e-8372-3805c5c93f47",
   "metadata": {},
   "outputs": [
    {
     "data": {
      "image/png": "[encoded data removed]",
      "text/plain": [
       "<Figure size 432x288 with 2 Axes>"
      ]
     },
     "metadata": {
      "needs_background": "light"
     },
     "output_type": "display_data"
    }
   ],
   "source": [
    "h = plt.contourf(x, y, z1)\n",
    "plt.axis('scaled')\n",
    "plt.xlabel(\"x axis [cm]\")\n",
    "plt.ylabel(\"y axis [cm]\")\n",
    "cbar = plt.colorbar()\n",
    "cbar.set_label('time diff on X-Axis')\n",
    "plt.show()"
   ]
  },
  {
   "cell_type": "code",
   "execution_count": 11,
   "id": "d43cf54e-6ba6-4205-b868-e1ef2715f491",
   "metadata": {},
   "outputs": [
    {
     "data": {
      "image/png": "[encoded data removed]",
      "text/plain": [
       "<Figure size 432x288 with 2 Axes>"
      ]
     },
     "metadata": {
      "needs_background": "light"
     },
     "output_type": "display_data"
    }
   ],
   "source": [
    "h = plt.contourf(x, y, z2)\n",
    "plt.axis('scaled')\n",
    "plt.xlabel(\"x axis [cm]\")\n",
    "plt.ylabel(\"y axis [cm]\")\n",
    "cbar = plt.colorbar()\n",
    "cbar.set_label('time diff on Y-Axis')\n",
    "plt.show()"
   ]
  },
  {
   "cell_type": "code",
   "execution_count": 15,
   "id": "f454e99a-9074-4793-89c3-986f3532bad0",
   "metadata": {},
   "outputs": [
    {
     "data": {
      "image/png": "[encoded data removed]",
      "text/plain": [
       "<Figure size 432x288 with 2 Axes>"
      ]
     },
     "metadata": {
      "needs_background": "light"
     },
     "output_type": "display_data"
    },
    {
     "data": {
      "image/png": "[encoded data removed]",
      "text/plain": [
       "<Figure size 432x288 with 2 Axes>"
      ]
     },
     "metadata": {
      "needs_background": "light"
     },
     "output_type": "display_data"
    }
   ],
   "source": [
    "%run PLS_TOF_calculation.py"
   ]
  },
  {
   "cell_type": "code",
   "execution_count": null,
   "id": "7c88b6c5-644b-4576-a1d2-4e3782cd382f",
   "metadata": {},
   "outputs": [],
   "source": []
  }
 ],
 "metadata": {
  "kernelspec": {
   "display_name": "Python [conda env:XENONnT_development] *",
   "language": "python",
   "name": "conda-env-XENONnT_development-py"
  },
  "language_info": {
   "codemirror_mode": {
    "name": "ipython",
    "version": 3
   },
   "file_extension": ".py",
   "mimetype": "text/x-python",
   "name": "python",
   "nbconvert_exporter": "python",
   "pygments_lexer": "ipython3",
   "version": "3.8.12"
  }
 },
 "nbformat": 4,
 "nbformat_minor": 5
}
